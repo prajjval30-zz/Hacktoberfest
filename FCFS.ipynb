{
 "cells": [
  {
   "cell_type": "code",
   "execution_count": 1,
   "metadata": {},
   "outputs": [
    {
     "name": "stdout",
     "output_type": "stream",
     "text": [
      "Enter the number of process: \n",
      "3\n",
      "Enter the arrival time of the processes: \n",
      "\n",
      "0 1 2\n",
      "Enter the burst time of the processes: \n",
      "\n",
      "20 7 5\n",
      "20\n",
      "27\n",
      "32\n",
      "\n",
      "\n",
      "Process\t  Arrivaltime\t Burst Time\t  Waiting Time\t  Turn Around Time \n",
      "0\t\t0\t\t20\t\t0\t\t20\n",
      "\n",
      "\n",
      "1\t\t1\t\t7\t\t19\t\t26\n",
      "\n",
      "\n",
      "2\t\t2\t\t5\t\t25\t\t30\n",
      "\n",
      "\n",
      "Average Waiting time is: 14.666666666666666\n",
      "Average Turn Arount Time is: 25.333333333333332\n"
     ]
    }
   ],
   "source": [
    "bt=[] #Array to store Burst time of processes\n",
    "at=[] #Array to store Arrival time of processes\n",
    "curr_time=0 # Current time of the system\n",
    "\n",
    "print(\"Enter the number of process: \")\n",
    "n=int(input())\n",
    "\n",
    "print(\"Enter the arrival time of the processes: \\n\")\n",
    "at=list(map(int, input().split()))\n",
    "\n",
    "print(\"Enter the burst time of the processes: \\n\")\n",
    "bt=list(map(int, input().split()))\n",
    "\n",
    "wt=[] #waiting time array \n",
    "avgwt=0 #Average Waiting time \n",
    "tat=[] #Turn_around time array\n",
    "avgtat=0 # Average Turnaround time\n",
    "\n",
    "\n",
    "wt.insert(0,0)\n",
    "tat.insert(0,bt[0])\n",
    "\n",
    "for i in range(0,len(bt)):\n",
    "    tat.insert(i,curr_time+bt[i]-at[i])#turn around time=time of completion of job - arrival time \n",
    "    curr_time=curr_time+bt[i]\n",
    "    print(curr_time)\n",
    "    wt.insert(i,tat[i]-bt[i]) #Waiting time = turn around time - Burst Time\n",
    "    avgwt+=wt[i]\n",
    "    avgtat+=tat[i]\n",
    "\n",
    "avgwt=float(avgwt)/n\n",
    "avgtat=float(avgtat)/n\n",
    "\n",
    "print(\"\\n\")\n",
    "print(\"Process\\t  Arrivaltime\\t Burst Time\\t  Waiting Time\\t  Turn Around Time \")\n",
    "\n",
    "for i in range(0,n):\n",
    "   print(str(i)+\"\\t\\t\"+str(at[i])+\"\\t\\t\"+str(bt[i])+\"\\t\\t\"+str(wt[i])+\"\\t\\t\"+str(tat[i]))\n",
    "   print(\"\\n\")\n",
    "\n",
    "print(\"Average Waiting time is: \"+str(avgwt))\n",
    "print(\"Average Turn Arount Time is: \"+str(avgtat))"
   ]
  },
  {
   "cell_type": "code",
   "execution_count": null,
   "metadata": {},
   "outputs": [],
   "source": []
  }
 ],
 "metadata": {
  "kernelspec": {
   "display_name": "Python 3",
   "language": "python",
   "name": "python3"
  },
  "language_info": {
   "codemirror_mode": {
    "name": "ipython",
    "version": 3
   },
   "file_extension": ".py",
   "mimetype": "text/x-python",
   "name": "python",
   "nbconvert_exporter": "python",
   "pygments_lexer": "ipython3",
   "version": "3.7.3"
  }
 },
 "nbformat": 4,
 "nbformat_minor": 2
}
